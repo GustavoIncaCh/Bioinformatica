{
  "nbformat": 4,
  "nbformat_minor": 0,
  "metadata": {
    "colab": {
      "name": "Biotecnologia.ipynb",
      "provenance": [],
      "authorship_tag": "ABX9TyMa9ZgGGw5LMNKHP1rGYeep",
      "include_colab_link": true
    },
    "kernelspec": {
      "name": "python3",
      "display_name": "Python 3"
    },
    "language_info": {
      "name": "python"
    }
  },
  "cells": [
    {
      "cell_type": "markdown",
      "metadata": {
        "id": "view-in-github",
        "colab_type": "text"
      },
      "source": [
        "<a href=\"https://colab.research.google.com/github/GustavoIncaCh/Bioinformatica/blob/main/Biotecnologia.ipynb\" target=\"_parent\"><img src=\"https://colab.research.google.com/assets/colab-badge.svg\" alt=\"Open In Colab\"/></a>"
      ]
    },
    {
      "cell_type": "code",
      "metadata": {
        "colab": {
          "base_uri": "https://localhost:8080/"
        },
        "id": "6DzBkLhzjFp-",
        "outputId": "6a82bd31-7cbb-4bb2-bb9a-953efded6ca2"
      },
      "source": [
        "!pip install biopython"
      ],
      "execution_count": 1,
      "outputs": [
        {
          "output_type": "stream",
          "text": [
            "Collecting biopython\n",
            "  Downloading biopython-1.79-cp37-cp37m-manylinux_2_5_x86_64.manylinux1_x86_64.whl (2.3 MB)\n",
            "\u001b[K     |████████████████████████████████| 2.3 MB 8.7 MB/s \n",
            "\u001b[?25hRequirement already satisfied: numpy in /usr/local/lib/python3.7/dist-packages (from biopython) (1.19.5)\n",
            "Installing collected packages: biopython\n",
            "Successfully installed biopython-1.79\n"
          ],
          "name": "stdout"
        }
      ]
    },
    {
      "cell_type": "code",
      "metadata": {
        "id": "0sH2_UtIjKMI"
      },
      "source": [
        "from google.colab import drive\n",
        "import re"
      ],
      "execution_count": 2,
      "outputs": []
    },
    {
      "cell_type": "code",
      "metadata": {
        "colab": {
          "base_uri": "https://localhost:8080/"
        },
        "id": "UVqNhGv7jKQI",
        "outputId": "b0f928b8-9d1a-4734-fbdc-2a099b1265d1"
      },
      "source": [
        "drive.mount('/content/drive/')"
      ],
      "execution_count": 3,
      "outputs": [
        {
          "output_type": "stream",
          "text": [
            "Mounted at /content/drive/\n"
          ],
          "name": "stdout"
        }
      ]
    },
    {
      "cell_type": "code",
      "metadata": {
        "id": "k1ufPeGJjKTZ"
      },
      "source": [
        "import numpy as np\n",
        "import re\n",
        "def string_to_array(my_string):\n",
        "    my_string = my_string.lower()\n",
        "    my_string = re.sub('[^acgt]', 'z', my_string)\n",
        "    my_array = np.array(list(my_string))\n",
        "    return my_array\n",
        "\n",
        "# create a label encoder with 'acgtn' alphabet"
      ],
      "execution_count": 4,
      "outputs": []
    },
    {
      "cell_type": "code",
      "metadata": {
        "id": "Z43S60CVjKWX"
      },
      "source": [
        "from sklearn.preprocessing import LabelEncoder\n",
        "def ordinal_encoder(my_array):\n",
        "    label_encoder = LabelEncoder()\n",
        "    label_encoder.fit(np.array(['a','c','g','t','z']))\n",
        "    integer_encoded = label_encoder.transform(my_array)\n",
        "    float_encoded = integer_encoded.astype(float)\n",
        "    float_encoded[float_encoded == 0] = 0 # A\n",
        "    float_encoded[float_encoded == 1] = 1 # C\n",
        "    float_encoded[float_encoded == 2] = 2 # G\n",
        "    float_encoded[float_encoded == 3] = 3 # T\n",
        "    float_encoded[float_encoded == 4] = 4 # anything else, z\n",
        "    return float_encoded"
      ],
      "execution_count": 5,
      "outputs": []
    },
    {
      "cell_type": "code",
      "metadata": {
        "id": "bgVTbbnejlfm"
      },
      "source": [
        "\n",
        "from sklearn.preprocessing import OneHotEncoder\n",
        "def one_hot_encoder(my_array):\n",
        "    integer_encoded = label_encoder.transform(my_array)\n",
        "    onehot_encoder = OneHotEncoder(sparse=False, dtype=int, n_values=5)\n",
        "    integer_encoded = integer_encoded.reshape(len(integer_encoded), 1)\n",
        "    onehot_encoded = onehot_encoder.fit_transform(integer_encoded)\n",
        "    onehot_encoded = np.delete(onehot_encoded, -1, 1)\n",
        "    return onehot_encoded\n",
        "def glcm(m_array):\n",
        "  a=np.amax(m_array)\n",
        "  a=int(a)\n",
        "  template=np.zeros((a+1,a+1))\n",
        "  for i in range(m_array.shape[0]):\n",
        "    for j in range(m_array.shape[1]-1):\n",
        "      if m_array[i][j]!=-1. and m_array[i][j+1]!=-1.:\n",
        "        template[int(m_array[i][j])][int(m_array[i][j+1])]+=1\n",
        "  return template\n",
        "def glcm_vect(m_array):\n",
        "  template=np.zeros((4,4))\n",
        "  for i in range(m_array.shape[0]-1):\n",
        "    template[int(m_array[i])][int(m_array[i+1])]+=1\n",
        "  return template\n",
        "                 \n",
        "def contrast(matriz_g):\n",
        "  resultado=0\n",
        "  for i in range(matriz_g.shape[0]):\n",
        "    for j in range(matriz_g.shape[1]):\n",
        "      resultado+=((i-j)**2)*matriz_g[i][j]\n",
        "  return resultado\n",
        "def energy(matriz_g):\n",
        "  resultado=0\n",
        "  for i in range(matriz_g.shape[0]):\n",
        "    for j in range(matriz_g.shape[1]):\n",
        "      resultado+=matriz_g[i][j]\n",
        "  return resultado\n",
        "def entropy(matriz_g):\n",
        "  a=np.log(matriz_g)\n",
        "  resultado=np.sum(a)\n",
        "  return resultado"
      ],
      "execution_count": 6,
      "outputs": []
    },
    {
      "cell_type": "code",
      "metadata": {
        "id": "e5ZmfBAhjlio"
      },
      "source": [
        "from skimage.feature import greycomatrix, greycoprops\n",
        "from multiprocessing import Pool\n",
        "def glcm_props(patch):\n",
        "    lf = []\n",
        "    #'contrast', 'dissimilarity', 'homogeneity', 'energy', 'correlation', 'ASM'\n",
        "    props = ['dissimilarity', 'contrast', 'homogeneity', 'energy', 'correlation']\n",
        "\n",
        "    #para que vaya a la derecha np.pi/4\n",
        "    glcm = greycomatrix(patch, [1], [np.pi/4], 256, symmetric=True, normed=True)\n",
        "    for f in props:\n",
        "        lf.append( greycoprops(glcm, f)[0,0] )\n",
        "      \n",
        "    a=[]\n",
        "    for f in props:\n",
        "        a.append( greycoprops(glcm, f)[0,0] )\n",
        "    return a\n",
        "\n",
        "#print(glcm_props([[1,2,3,4,2],[1,2,3,4,2],[1,2,3,4,4]]))\n"
      ],
      "execution_count": 47,
      "outputs": []
    },
    {
      "cell_type": "code",
      "metadata": {
        "colab": {
          "base_uri": "https://localhost:8080/"
        },
        "id": "EBEb4Uu2jllG",
        "outputId": "2338aa27-e7b4-4e32-f39d-0db439c817a1"
      },
      "source": [
        "from Bio import SeqIO\n",
        "data=[]\n",
        "for seq_record in SeqIO.parse('/content/drive/My Drive/Biotecnologia/example.fa', \"fasta\"):\n",
        "    a=str(seq_record.seq)\n",
        "    #print(\"asd\",a)\n",
        "    #print(\"asdasdasda\")\n",
        "    montar=string_to_array(a)\n",
        "    montar=ordinal_encoder(montar)\n",
        "    ggg=np.array(montar)\n",
        "    m_glcm=glcm_vect(ggg)\n",
        "    a=[]\n",
        "    if int(ggg.shape[0]%4)!=0:\n",
        "      new_cont=(int(ggg.shape[0]//4)+1)*4\n",
        "      a=np.zeros(int(new_cont-ggg.shape[0]))\n",
        "    ggg=np.append(ggg,a)\n",
        "    f=ggg.shape[0]\n",
        "    gope =np.array(ggg).reshape(int(f/4),4)\n",
        "    a=glcm(gope)\n",
        "    #print(a)\n",
        "    a=a.astype(np.uint8)\n",
        "    gope=gope.astype(np.uint8)\n",
        "    #print(gope)\n",
        "    #print(glcm_props([[1,2,3,4,2],[1,2,3,4,2],[1,2,3,4,4]]))\n",
        "    data.append(glcm_props(gope))\n",
        "print(data)  \n"
      ],
      "execution_count": 54,
      "outputs": [
        {
          "output_type": "stream",
          "text": [
            "[[1.2577319587628866, 2.4192439862542954, 0.4872852233676976, 0.2569058926675693, 0.07525639173768602], [1.2633209417596036, 2.54089219330855, 0.496096654275093, 0.25097105226920463, 0.02238156592755131]]\n"
          ],
          "name": "stdout"
        }
      ]
    },
    {
      "cell_type": "code",
      "metadata": {
        "id": "rRvVTuVDjlno",
        "colab": {
          "base_uri": "https://localhost:8080/"
        },
        "outputId": "2b36fa9b-1633-40f2-be8d-1675d4287dac"
      },
      "source": [
        "for seq_record in SeqIO.parse('/content/drive/My Drive/Biotecnologia/Macaca_fascicularis_chromosome10.fa', \"fasta\"):\n",
        "    a=str(seq_record.seq)\n",
        "    montar=string_to_array(a)\n",
        "    montar=ordinal_encoder(montar)\n",
        "    ggg=np.array(montar)\n",
        "    #m_glcm=glcm_vect(ggg)\n",
        "    a=[]\n",
        "    if int(ggg.shape[0]%4)!=0:\n",
        "      new_cont=(int(ggg.shape[0]//4)+1)*4\n",
        "      a=np.zeros(int(new_cont-ggg.shape[0]))\n",
        "    ggg=np.append(ggg,a)\n",
        "    f=ggg.shape[0]\n",
        "    gope =np.array(ggg).reshape(int(f/4),4)\n",
        "    a=glcm(gope)\n",
        "    a=a.astype(np.uint8)\n",
        "    gope=gope.astype(np.uint8)\n",
        "    data.append(glcm_props(gope))\n",
        "print(data)\n"
      ],
      "execution_count": 55,
      "outputs": [
        {
          "output_type": "stream",
          "text": [
            "[[1.2577319587628866, 2.4192439862542954, 0.4872852233676976, 0.2569058926675693, 0.07525639173768602], [1.2633209417596036, 2.54089219330855, 0.496096654275093, 0.25097105226920463, 0.02238156592755131], [1.179117857436832, 2.453041014963959, 0.5378208711397129, 0.2448337280756407, 0.2377882445583145]]\n"
          ],
          "name": "stdout"
        }
      ]
    },
    {
      "cell_type": "code",
      "metadata": {
        "id": "T5foD18NjlqX"
      },
      "source": [
        "for seq_record in SeqIO.parse('/content/drive/My Drive/Biotecnologia/Macaca_mulatta_nonchromosomal.fa', \"fasta\"):\n",
        "    a=str(seq_record.seq)\n",
        "    montar=string_to_array(a)\n",
        "    montar=ordinal_encoder(montar)\n",
        "    ggg=np.array(montar)\n",
        "    #m_glcm=glcm_vect(ggg)\n",
        "    a=[]\n",
        "    if int(ggg.shape[0]%4)!=0:\n",
        "      new_cont=(int(ggg.shape[0]//4)+1)*4\n",
        "      a=np.zeros(int(new_cont-ggg.shape[0]))\n",
        "    ggg=np.append(ggg,a)\n",
        "    f=ggg.shape[0]\n",
        "    gope =np.array(ggg).reshape(int(f/4),4)\n",
        "    a=glcm(gope)\n",
        "    a=a.astype(np.uint8)\n",
        "    gope=gope.astype(np.uint8)\n",
        "    data.append(glcm_props(gope))"
      ],
      "execution_count": 57,
      "outputs": []
    },
    {
      "cell_type": "code",
      "metadata": {
        "id": "PRmBxvrsjKZf"
      },
      "source": [
        "for seq_record in SeqIO.parse('/content/drive/My Drive/Biotecnologia/Microcebus_murinus_chromosome.17.fa', \"fasta\"):\n",
        "    a=str(seq_record.seq)\n",
        "    montar=string_to_array(a)\n",
        "    montar=ordinal_encoder(montar)\n",
        "    ggg=np.array(montar)\n",
        "    #m_glcm=glcm_vect(ggg)\n",
        "    a=[]\n",
        "    if int(ggg.shape[0]%4)!=0:\n",
        "      new_cont=(int(ggg.shape[0]//4)+1)*4\n",
        "      a=np.zeros(int(new_cont-ggg.shape[0]))\n",
        "    ggg=np.append(ggg,a)\n",
        "    f=ggg.shape[0]\n",
        "    gope =np.array(ggg).reshape(int(f/4),4)\n",
        "    a=glcm(gope)\n",
        "    a=a.astype(np.uint8)\n",
        "    gope=gope.astype(np.uint8)\n",
        "    data.append(glcm_props(gope))"
      ],
      "execution_count": 58,
      "outputs": []
    },
    {
      "cell_type": "code",
      "metadata": {
        "id": "9xukDLPljKb3"
      },
      "source": [
        "for seq_record in SeqIO.parse('/content/drive/My Drive/Biotecnologia/Pongo_abelii_chromosome.21.fa', \"fasta\"):\n",
        "    a=str(seq_record.seq)\n",
        "    montar=string_to_array(a)\n",
        "    montar=ordinal_encoder(montar)\n",
        "    ggg=np.array(montar)\n",
        "    #m_glcm=glcm_vect(ggg)\n",
        "    a=[]\n",
        "    if int(ggg.shape[0]%4)!=0:\n",
        "      new_cont=(int(ggg.shape[0]//4)+1)*4\n",
        "      a=np.zeros(int(new_cont-ggg.shape[0]))\n",
        "    ggg=np.append(ggg,a)\n",
        "    f=ggg.shape[0]\n",
        "    gope =np.array(ggg).reshape(int(f/4),4)\n",
        "    a=glcm(gope)\n",
        "    a=a.astype(np.uint8)\n",
        "    gope=gope.astype(np.uint8)\n",
        "    data.append(glcm_props(gope))"
      ],
      "execution_count": 59,
      "outputs": []
    },
    {
      "cell_type": "code",
      "metadata": {
        "id": "s_pDn42VjKex"
      },
      "source": [
        "for seq_record in SeqIO.parse('/content/drive/My Drive/Biotecnologia/chr3_GL000221v1_random.subst.fa', \"fasta\"):\n",
        "    a=str(seq_record.seq)\n",
        "    montar=string_to_array(a)\n",
        "    montar=ordinal_encoder(montar)\n",
        "    ggg=np.array(montar)\n",
        "    #m_glcm=glcm_vect(ggg)\n",
        "    a=[]\n",
        "    if int(ggg.shape[0]%4)!=0:\n",
        "      new_cont=(int(ggg.shape[0]//4)+1)*4\n",
        "      a=np.zeros(int(new_cont-ggg.shape[0]))\n",
        "    ggg=np.append(ggg,a)\n",
        "    f=ggg.shape[0]\n",
        "    gope =np.array(ggg).reshape(int(f/4),4)\n",
        "    a=glcm(gope)\n",
        "    a=a.astype(np.uint8)\n",
        "    gope=gope.astype(np.uint8)\n",
        "    data.append(glcm_props(gope))"
      ],
      "execution_count": 60,
      "outputs": []
    },
    {
      "cell_type": "code",
      "metadata": {
        "id": "D-kvq6LijKhJ"
      },
      "source": [
        "for seq_record in SeqIO.parse('/content/drive/My Drive/Biotecnologia/Gorilla_gorilla_chromosome.1.fa', \"fasta\"):\n",
        "    a=str(seq_record.seq)\n",
        "    montar=string_to_array(a)\n",
        "    montar=ordinal_encoder(montar)\n",
        "    ggg=np.array(montar)\n",
        "    #m_glcm=glcm_vect(ggg)\n",
        "    a=[]\n",
        "    if int(ggg.shape[0]%4)!=0:\n",
        "      new_cont=(int(ggg.shape[0]//4)+1)*4\n",
        "      a=np.zeros(int(new_cont-ggg.shape[0]))\n",
        "    ggg=np.append(ggg,a)\n",
        "    f=ggg.shape[0]\n",
        "    gope =np.array(ggg).reshape(int(f/4),4)\n",
        "    a=glcm(gope)\n",
        "    a=a.astype(np.uint8)\n",
        "    gope=gope.astype(np.uint8)\n",
        "    data.append(glcm_props(gope))"
      ],
      "execution_count": 61,
      "outputs": []
    },
    {
      "cell_type": "code",
      "metadata": {
        "colab": {
          "base_uri": "https://localhost:8080/",
          "height": 296
        },
        "id": "wYFR-pndCMiK",
        "outputId": "c49a1290-d8f9-4dbd-fead-9a77021af081"
      },
      "source": [
        "import matplotlib.pyplot as plt\n",
        "fig, ax = plt.subplots()\n",
        "lista=['entropy', 'contrast', 'homogeneity', 'energy', 'correlation']\n",
        "entropia=[]\n",
        "contrast=[]\n",
        "homogeneity=[]\n",
        "energy=[]\n",
        "correlation=[]\n",
        "for i in range(len(data)):\n",
        "  entropia.append(data[i][0])\n",
        "  contrast.append(data[i][1])\n",
        "  homogeneity.append(data[i][2])\n",
        "  energy.append(data[i][3])\n",
        "  correlation.append(data[i][4])\n",
        "\n",
        "ax.scatter(entropia,contrast, c='green', label='green',\n",
        "               alpha=0.5, edgecolors='none')\n",
        "plt.scatter(entropia,contrast)\n",
        "plt.ylabel(\"constrast\")\n",
        "plt.xlabel(\"entropy\")"
      ],
      "execution_count": 62,
      "outputs": [
        {
          "output_type": "execute_result",
          "data": {
            "text/plain": [
              "Text(0.5, 0, 'entropy')"
            ]
          },
          "metadata": {
            "tags": []
          },
          "execution_count": 62
        },
        {
          "output_type": "display_data",
          "data": {
            "image/png": "[encoded data removed]",
            "text/plain": [
              "<Figure size 432x288 with 1 Axes>"
            ]
          },
          "metadata": {
            "tags": [],
            "needs_background": "light"
          }
        }
      ]
    },
    {
      "cell_type": "code",
      "metadata": {
        "colab": {
          "base_uri": "https://localhost:8080/",
          "height": 296
        },
        "id": "WFclGclCCMk3",
        "outputId": "67359164-aad4-4d39-f997-4aa001e2507a"
      },
      "source": [
        "plt.scatter(homogeneity,energy)\n",
        "plt.xlabel(\"homogeneity\")\n",
        "plt.ylabel(\"energy\")"
      ],
      "execution_count": 63,
      "outputs": [
        {
          "output_type": "execute_result",
          "data": {
            "text/plain": [
              "Text(0, 0.5, 'energy')"
            ]
          },
          "metadata": {
            "tags": []
          },
          "execution_count": 63
        },
        {
          "output_type": "display_data",
          "data": {
            "image/png": "[encoded data removed]",
            "text/plain": [
              "<Figure size 432x288 with 1 Axes>"
            ]
          },
          "metadata": {
            "tags": [],
            "needs_background": "light"
          }
        }
      ]
    },
    {
      "cell_type": "code",
      "metadata": {
        "colab": {
          "base_uri": "https://localhost:8080/",
          "height": 296
        },
        "id": "WCuXHp5SCMnm",
        "outputId": "180c7474-9ebd-4b0a-a641-b0c840c298ee"
      },
      "source": [
        "plt.scatter(contrast,homogeneity)\n",
        "plt.ylabel(\"homogeneity\")\n",
        "plt.xlabel(\"contrast\")"
      ],
      "execution_count": 64,
      "outputs": [
        {
          "output_type": "execute_result",
          "data": {
            "text/plain": [
              "Text(0.5, 0, 'contrast')"
            ]
          },
          "metadata": {
            "tags": []
          },
          "execution_count": 64
        },
        {
          "output_type": "display_data",
          "data": {
            "image/png": "[encoded data removed]",
            "text/plain": [
              "<Figure size 432x288 with 1 Axes>"
            ]
          },
          "metadata": {
            "tags": [],
            "needs_background": "light"
          }
        }
      ]
    },
    {
      "cell_type": "code",
      "metadata": {
        "id": "ZkNze16wKvgc"
      },
      "source": [
        "from Bio import SeqIO\n",
        "data2=[]\n",
        "for seq_record in SeqIO.parse('/content/drive/My Drive/Biotecnologia/example.fa', \"fasta\"):\n",
        "    a=str(seq_record.seq)\n",
        "    #print(\"asd\",a)\n",
        "    #print(\"asdasdasda\")\n",
        "    montar=string_to_array(a)\n",
        "    montar=ordinal_encoder(montar)\n",
        "    ggg=np.array(montar)\n",
        "    m_glcm=glcm_vect(ggg)\n",
        "    a=[]\n",
        "    if int(ggg.shape[0]%4)!=0:\n",
        "      new_cont=(int(ggg.shape[0]//4)+1)*4\n",
        "      a=np.zeros(int(new_cont-ggg.shape[0]))\n",
        "    ggg=np.append(ggg,a)\n",
        "    f=ggg.shape[0]\n",
        "    gope =np.array(ggg).reshape(int(f/4),4)\n",
        "    a=glcm(gope)\n",
        "    #print(a)\n",
        "    a=a.astype(np.uint8)\n",
        "    gope=gope.astype(np.uint8)\n",
        "    #print(gope)\n",
        "    #print(glcm_props([[1,2,3,4,2],[1,2,3,4,2],[1,2,3,4,4]]))\n",
        "    data2.append(glcm_props(gope))"
      ],
      "execution_count": 67,
      "outputs": []
    },
    {
      "cell_type": "code",
      "metadata": {
        "colab": {
          "base_uri": "https://localhost:8080/",
          "height": 296
        },
        "id": "0I5ZX6yTKvjV",
        "outputId": "31889fea-be3a-4324-a971-ded585df2975"
      },
      "source": [
        "fig, ax = plt.subplots()\n",
        "lista=['entropy', 'contrast', 'homogeneity', 'energy', 'correlation']\n",
        "entropia=[]\n",
        "contrast=[]\n",
        "homogeneity=[]\n",
        "energy=[]\n",
        "correlation=[]\n",
        "for i in range(len(data2)):\n",
        "  entropia.append(data2[i][0])\n",
        "  contrast.append(data2[i][1])\n",
        "  homogeneity.append(data2[i][2])\n",
        "  energy.append(data2[i][3])\n",
        "  correlation.append(data2[i][4])\n",
        "\n",
        "ax.scatter(entropia,contrast, c='green', label='green',\n",
        "               alpha=0.5, edgecolors='none')\n",
        "plt.scatter(entropia,contrast)\n",
        "plt.ylabel(\"constrast\")\n",
        "plt.xlabel(\"entropy\")"
      ],
      "execution_count": 68,
      "outputs": [
        {
          "output_type": "execute_result",
          "data": {
            "text/plain": [
              "Text(0.5, 0, 'entropy')"
            ]
          },
          "metadata": {
            "tags": []
          },
          "execution_count": 68
        },
        {
          "output_type": "display_data",
          "data": {
            "image/png": "[encoded data removed]",
            "text/plain": [
              "<Figure size 432x288 with 1 Axes>"
            ]
          },
          "metadata": {
            "tags": [],
            "needs_background": "light"
          }
        }
      ]
    },
    {
      "cell_type": "code",
      "metadata": {
        "colab": {
          "base_uri": "https://localhost:8080/"
        },
        "id": "l3a-MsKsKvl-",
        "outputId": "ea48a09e-fede-4a1b-869c-f8fde3503be1"
      },
      "source": [
        "# macaca comparaciones\n",
        "data_chromosome = []\n",
        "for seq_record in SeqIO.parse('/content/drive/My Drive/Biotecnologia/Macaca_fascicularis_chromosome10.fa', \"fasta\"):\n",
        "    a=str(seq_record.seq)\n",
        "    montar=string_to_array(a)\n",
        "    montar=ordinal_encoder(montar)\n",
        "    ggg=np.array(montar)\n",
        "    #m_glcm=glcm_vect(ggg)\n",
        "    a=[]\n",
        "    if int(ggg.shape[0]%4)!=0:\n",
        "      new_cont=(int(ggg.shape[0]//4)+1)*4\n",
        "      a=np.zeros(int(new_cont-ggg.shape[0]))\n",
        "    ggg=np.append(ggg,a)\n",
        "    f=ggg.shape[0]\n",
        "    gope =np.array(ggg).reshape(int(f/4),4)\n",
        "    a=glcm(gope)\n",
        "    a=a.astype(np.uint8)\n",
        "    gope=gope.astype(np.uint8)\n",
        "    data_chromosome.append(glcm_props(gope))\n",
        "print(data_chromosome)\n"
      ],
      "execution_count": 74,
      "outputs": [
        {
          "output_type": "stream",
          "text": [
            "[[1.179117857436832, 2.453041014963959, 0.5378208711397129, 0.2448337280756407, 0.2377882445583145]]\n"
          ],
          "name": "stdout"
        }
      ]
    },
    {
      "cell_type": "code",
      "metadata": {
        "id": "quj1p4akKvoc"
      },
      "source": [
        "for seq_record in SeqIO.parse('/content/drive/My Drive/Biotecnologia/Microcebus_murinus_chromosome.17.fa', \"fasta\"):\n",
        "    a=str(seq_record.seq)\n",
        "    montar=string_to_array(a)\n",
        "    montar=ordinal_encoder(montar)\n",
        "    ggg=np.array(montar)\n",
        "    #m_glcm=glcm_vect(ggg)\n",
        "    a=[]\n",
        "    if int(ggg.shape[0]%4)!=0:\n",
        "      new_cont=(int(ggg.shape[0]//4)+1)*4\n",
        "      a=np.zeros(int(new_cont-ggg.shape[0]))\n",
        "    ggg=np.append(ggg,a)\n",
        "    f=ggg.shape[0]\n",
        "    gope =np.array(ggg).reshape(int(f/4),4)\n",
        "    a=glcm(gope)\n",
        "    a=a.astype(np.uint8)\n",
        "    gope=gope.astype(np.uint8)\n",
        "    data_chromosome.append(glcm_props(gope))"
      ],
      "execution_count": 75,
      "outputs": []
    },
    {
      "cell_type": "code",
      "metadata": {
        "id": "_j1FoLjOMx0I"
      },
      "source": [
        "for seq_record in SeqIO.parse('/content/drive/My Drive/Biotecnologia/Gorilla_gorilla_chromosome.1.fa', \"fasta\"):\n",
        "    a=str(seq_record.seq)\n",
        "    montar=string_to_array(a)\n",
        "    montar=ordinal_encoder(montar)\n",
        "    ggg=np.array(montar)\n",
        "    #m_glcm=glcm_vect(ggg)\n",
        "    a=[]\n",
        "    if int(ggg.shape[0]%4)!=0:\n",
        "      new_cont=(int(ggg.shape[0]//4)+1)*4\n",
        "      a=np.zeros(int(new_cont-ggg.shape[0]))\n",
        "    ggg=np.append(ggg,a)\n",
        "    f=ggg.shape[0]\n",
        "    gope =np.array(ggg).reshape(int(f/4),4)\n",
        "    a=glcm(gope)\n",
        "    a=a.astype(np.uint8)\n",
        "    gope=gope.astype(np.uint8)\n",
        "    data_chromosome.append(glcm_props(gope))"
      ],
      "execution_count": 76,
      "outputs": []
    },
    {
      "cell_type": "code",
      "metadata": {
        "colab": {
          "base_uri": "https://localhost:8080/",
          "height": 296
        },
        "id": "ZQ5FjVjiMx3Z",
        "outputId": "bb2e73f2-80c5-434d-d43f-c09527ffc0c4"
      },
      "source": [
        "fig, ax = plt.subplots()\n",
        "lista=['entropy', 'contrast', 'homogeneity', 'energy', 'correlation']\n",
        "entropia=[]\n",
        "contrast=[]\n",
        "homogeneity=[]\n",
        "energy=[]\n",
        "correlation=[]\n",
        "for i in range(len(data_chromosome)):\n",
        "  entropia.append(data_chromosome[i][0])\n",
        "  contrast.append(data_chromosome[i][1])\n",
        "  homogeneity.append(data_chromosome[i][2])\n",
        "  energy.append(data_chromosome[i][3])\n",
        "  correlation.append(data_chromosome[i][4])\n",
        "\n",
        "ax.scatter(entropia,contrast, c='green', label='green',\n",
        "               alpha=0.5, edgecolors='none')\n",
        "plt.scatter(entropia,contrast)\n",
        "plt.ylabel(\"constrast\")\n",
        "plt.xlabel(\"entropy\")"
      ],
      "execution_count": 78,
      "outputs": [
        {
          "output_type": "execute_result",
          "data": {
            "text/plain": [
              "Text(0.5, 0, 'entropy')"
            ]
          },
          "metadata": {
            "tags": []
          },
          "execution_count": 78
        },
        {
          "output_type": "display_data",
          "data": {
            "image/png": "[encoded data removed]",
            "text/plain": [
              "<Figure size 432x288 with 1 Axes>"
            ]
          },
          "metadata": {
            "tags": [],
            "needs_background": "light"
          }
        }
      ]
    },
    {
      "cell_type": "code",
      "metadata": {
        "colab": {
          "base_uri": "https://localhost:8080/",
          "height": 296
        },
        "id": "ALiw6IsQNXIB",
        "outputId": "7d304c23-979c-4939-f598-38c988f29615"
      },
      "source": [
        "plt.scatter(homogeneity,energy)\n",
        "plt.xlabel(\"homogeneity\")\n",
        "plt.ylabel(\"energy\")"
      ],
      "execution_count": 79,
      "outputs": [
        {
          "output_type": "execute_result",
          "data": {
            "text/plain": [
              "Text(0, 0.5, 'energy')"
            ]
          },
          "metadata": {
            "tags": []
          },
          "execution_count": 79
        },
        {
          "output_type": "display_data",
          "data": {
            "image/png": "[encoded data removed]",
            "text/plain": [
              "<Figure size 432x288 with 1 Axes>"
            ]
          },
          "metadata": {
            "tags": [],
            "needs_background": "light"
          }
        }
      ]
    },
    {
      "cell_type": "code",
      "metadata": {
        "colab": {
          "base_uri": "https://localhost:8080/"
        },
        "id": "VtSyAQ5BNXKs",
        "outputId": "6a8f8b18-e925-4aec-d5f9-ac6ca0dc0ff2"
      },
      "source": [
        "for i in range(len(data_chromosome)):\n",
        "  print(data_chromosome[i][0])\n",
        "  print(data_chromosome[i][1])\n",
        "  print(data_chromosome[i][2])\n",
        "  print(data_chromosome[i][3])\n",
        "  print(data_chromosome[i][4])\n",
        "  print(\"\\n\")"
      ],
      "execution_count": 82,
      "outputs": [
        {
          "output_type": "stream",
          "text": [
            "1.179117857436832\n",
            "2.453041014963959\n",
            "0.5378208711397129\n",
            "0.2448337280756407\n",
            "0.2377882445583145\n",
            "\n",
            "\n",
            "1.2372142486094209\n",
            "2.5913304797734296\n",
            "0.5167999865967057\n",
            "0.24905451184755392\n",
            "0.0975774090734208\n",
            "\n",
            "\n",
            "1.2337544719515665\n",
            "2.646261098976915\n",
            "0.5243552461364936\n",
            "0.25010067046329626\n",
            "0.18225406129501373\n",
            "\n",
            "\n"
          ],
          "name": "stdout"
        }
      ]
    },
    {
      "cell_type": "code",
      "metadata": {
        "id": "ZP-hbCqDNXM-"
      },
      "source": [
        "for seq_record in SeqIO.parse('/content/drive/My Drive/Biotecnologia/Pongo_abelii_chromosome.21.fa', \"fasta\"):\n",
        "    a=str(seq_record.seq)\n",
        "    montar=string_to_array(a)\n",
        "    montar=ordinal_encoder(montar)\n",
        "    ggg=np.array(montar)\n",
        "    #m_glcm=glcm_vect(ggg)\n",
        "    a=[]\n",
        "    if int(ggg.shape[0]%4)!=0:\n",
        "      new_cont=(int(ggg.shape[0]//4)+1)*4\n",
        "      a=np.zeros(int(new_cont-ggg.shape[0]))\n",
        "    ggg=np.append(ggg,a)\n",
        "    f=ggg.shape[0]\n",
        "    gope =np.array(ggg).reshape(int(f/4),4)\n",
        "    a=glcm(gope)\n",
        "    a=a.astype(np.uint8)\n",
        "    gope=gope.astype(np.uint8)\n",
        "    data_chromosome.append(glcm_props(gope))"
      ],
      "execution_count": 84,
      "outputs": []
    },
    {
      "cell_type": "code",
      "metadata": {
        "id": "rg1ufYuxWafq"
      },
      "source": [
        "for seq_record in SeqIO.parse('/content/drive/My Drive/Biotecnologia/chr3_GL000221v1_random.subst.fa', \"fasta\"):\n",
        "    a=str(seq_record.seq)\n",
        "    montar=string_to_array(a)\n",
        "    montar=ordinal_encoder(montar)\n",
        "    ggg=np.array(montar)\n",
        "    #m_glcm=glcm_vect(ggg)\n",
        "    a=[]\n",
        "    if int(ggg.shape[0]%4)!=0:\n",
        "      new_cont=(int(ggg.shape[0]//4)+1)*4\n",
        "      a=np.zeros(int(new_cont-ggg.shape[0]))\n",
        "    ggg=np.append(ggg,a)\n",
        "    f=ggg.shape[0]\n",
        "    gope =np.array(ggg).reshape(int(f/4),4)\n",
        "    a=glcm(gope)\n",
        "    a=a.astype(np.uint8)\n",
        "    gope=gope.astype(np.uint8)\n",
        "    data_chromosome.append(glcm_props(gope))"
      ],
      "execution_count": 85,
      "outputs": []
    },
    {
      "cell_type": "code",
      "metadata": {
        "colab": {
          "base_uri": "https://localhost:8080/",
          "height": 296
        },
        "id": "Dxx_BSl2WalZ",
        "outputId": "ba3ed0c6-8a1d-41d6-e65f-b81be2484a6f"
      },
      "source": [
        "fig, ax = plt.subplots()\n",
        "lista=['entropy', 'contrast', 'homogeneity', 'energy', 'correlation']\n",
        "entropia=[]\n",
        "contrast=[]\n",
        "homogeneity=[]\n",
        "energy=[]\n",
        "correlation=[]\n",
        "for i in range(len(data_chromosome)):\n",
        "  entropia.append(data_chromosome[i][0])\n",
        "  contrast.append(data_chromosome[i][1])\n",
        "  homogeneity.append(data_chromosome[i][2])\n",
        "  energy.append(data_chromosome[i][3])\n",
        "  correlation.append(data_chromosome[i][4])\n",
        "\n",
        "ax.scatter(entropia,contrast, c='green', label='green',\n",
        "               alpha=0.5, edgecolors='none')\n",
        "plt.scatter(entropia,contrast)\n",
        "plt.ylabel(\"constrast\")\n",
        "plt.xlabel(\"entropy\")"
      ],
      "execution_count": 86,
      "outputs": [
        {
          "output_type": "execute_result",
          "data": {
            "text/plain": [
              "Text(0.5, 0, 'entropy')"
            ]
          },
          "metadata": {
            "tags": []
          },
          "execution_count": 86
        },
        {
          "output_type": "display_data",
          "data": {
            "image/png": "[encoded data removed]",
            "text/plain": [
              "<Figure size 432x288 with 1 Axes>"
            ]
          },
          "metadata": {
            "tags": [],
            "needs_background": "light"
          }
        }
      ]
    },
    {
      "cell_type": "code",
      "metadata": {
        "colab": {
          "base_uri": "https://localhost:8080/"
        },
        "id": "mvxb-bwYXvas",
        "outputId": "f0450987-a958-4f2d-c72a-63b0d4cf67d4"
      },
      "source": [
        "for i in range(len(data_chromosome)):\n",
        "  print(data_chromosome[i][0])\n",
        "  print(data_chromosome[i][1])\n",
        "  print(data_chromosome[i][2])\n",
        "  print(data_chromosome[i][3])\n",
        "  print(data_chromosome[i][4])\n",
        "  print(\"\\n\")"
      ],
      "execution_count": 87,
      "outputs": [
        {
          "output_type": "stream",
          "text": [
            "1.179117857436832\n",
            "2.453041014963959\n",
            "0.5378208711397129\n",
            "0.2448337280756407\n",
            "0.2377882445583145\n",
            "\n",
            "\n",
            "1.2372142486094209\n",
            "2.5913304797734296\n",
            "0.5167999865967057\n",
            "0.24905451184755392\n",
            "0.0975774090734208\n",
            "\n",
            "\n",
            "1.2337544719515665\n",
            "2.646261098976915\n",
            "0.5243552461364936\n",
            "0.25010067046329626\n",
            "0.18225406129501373\n",
            "\n",
            "\n",
            "0.888342398962571\n",
            "1.9206940864722364\n",
            "0.6590295657547931\n",
            "0.36273893195827567\n",
            "0.5890002651342966\n",
            "\n",
            "\n",
            "1.3206174333101666\n",
            "2.895690150754631\n",
            "0.4970519845818324\n",
            "0.26282250890041997\n",
            "0.025889276501703754\n",
            "\n",
            "\n"
          ],
          "name": "stdout"
        }
      ]
    }
  ]
}